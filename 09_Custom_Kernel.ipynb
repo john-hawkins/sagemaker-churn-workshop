{
 "cells": [
  {
   "cell_type": "markdown",
   "metadata": {},
   "source": [
    "# Custom Kernel\n",
    "\n",
    "For this exercise please refer to the following repository: \n",
    "\n",
    "https://github.com/john-hawkins/amazon-sagemaker-kernels\n",
    "\n",
    "It contains an example of how to build a kernel to support R programmers that will be made available inside Sagemaker Studio.\n",
    "\n",
    "Please Note: this requires additional IAM permissions for the Sagemaker Studio user and access to the internet or an aretfact repository for building the container. This permissions may be restricted to specific users or for DEV environments only."
   ]
  },
  {
   "cell_type": "code",
   "execution_count": null,
   "metadata": {},
   "outputs": [],
   "source": []
  }
 ],
 "metadata": {
  "instance_type": "ml.t3.medium",
  "kernelspec": {
   "display_name": "Python 3 (Data Science)",
   "language": "python",
   "name": "python3__SAGEMAKER_INTERNAL__arn:aws:sagemaker:ap-northeast-2:806072073708:image/datascience-1.0"
  },
  "language_info": {
   "codemirror_mode": {
    "name": "ipython",
    "version": 3
   },
   "file_extension": ".py",
   "mimetype": "text/x-python",
   "name": "python",
   "nbconvert_exporter": "python",
   "pygments_lexer": "ipython3",
   "version": "3.7.10"
  }
 },
 "nbformat": 4,
 "nbformat_minor": 4
}
